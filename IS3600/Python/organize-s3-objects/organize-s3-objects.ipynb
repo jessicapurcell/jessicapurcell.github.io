{
 "cells": [
  {
   "cell_type": "code",
   "execution_count": 106,
   "metadata": {},
   "outputs": [],
   "source": [
    "import boto3\n",
    "from datetime import datetime"
   ]
  },
  {
   "cell_type": "code",
   "execution_count": 107,
   "metadata": {},
   "outputs": [],
   "source": [
    "today = datetime.today()"
   ]
  },
  {
   "cell_type": "code",
   "execution_count": 108,
   "metadata": {},
   "outputs": [
    {
     "data": {
      "text/plain": [
       "datetime.datetime(2023, 11, 20, 19, 58, 45, 501954)"
      ]
     },
     "execution_count": 108,
     "metadata": {},
     "output_type": "execute_result"
    }
   ],
   "source": [
    "today"
   ]
  },
  {
   "cell_type": "code",
   "execution_count": 109,
   "metadata": {},
   "outputs": [],
   "source": [
    "todays_date = today.strftime(\"%Y%m%d\")"
   ]
  },
  {
   "cell_type": "code",
   "execution_count": 110,
   "metadata": {},
   "outputs": [
    {
     "data": {
      "text/plain": [
       "'20231120'"
      ]
     },
     "execution_count": 110,
     "metadata": {},
     "output_type": "execute_result"
    }
   ],
   "source": [
    "todays_date"
   ]
  },
  {
   "cell_type": "code",
   "execution_count": 111,
   "metadata": {},
   "outputs": [],
   "source": [
    "s3client = boto3.client('s3')"
   ]
  },
  {
   "cell_type": "code",
   "execution_count": 112,
   "metadata": {},
   "outputs": [],
   "source": [
    "bucket_name = \"jessicapurcell-3600-project\""
   ]
  },
  {
   "cell_type": "code",
   "execution_count": 113,
   "metadata": {},
   "outputs": [],
   "source": [
    "list_objects_response = s3client.list_objects_v2(Bucket=bucket_name)"
   ]
  },
  {
   "cell_type": "code",
   "execution_count": 114,
   "metadata": {},
   "outputs": [
    {
     "data": {
      "text/plain": [
       "{'ResponseMetadata': {'RequestId': 'XFQWS5TWYD8VE45F',\n",
       "  'HostId': 'rllPju3ZfSC+jlr9MzflII5xas8h+SoDhdgLmrJy6gr5S6aBv2xATFsMEfo6muqu8ROghoI5XAM=',\n",
       "  'HTTPStatusCode': 200,\n",
       "  'HTTPHeaders': {'x-amz-id-2': 'rllPju3ZfSC+jlr9MzflII5xas8h+SoDhdgLmrJy6gr5S6aBv2xATFsMEfo6muqu8ROghoI5XAM=',\n",
       "   'x-amz-request-id': 'XFQWS5TWYD8VE45F',\n",
       "   'date': 'Tue, 21 Nov 2023 02:58:47 GMT',\n",
       "   'x-amz-bucket-region': 'us-west-2',\n",
       "   'content-type': 'application/xml',\n",
       "   'transfer-encoding': 'chunked',\n",
       "   'server': 'AmazonS3'},\n",
       "  'RetryAttempts': 1},\n",
       " 'IsTruncated': False,\n",
       " 'Contents': [{'Key': '706-Woodland-Ct_18.jpg',\n",
       "   'LastModified': datetime.datetime(2023, 11, 20, 21, 55, 1, tzinfo=tzutc()),\n",
       "   'ETag': '\"d24c53923be35ed441ec2a6951a3ffba\"',\n",
       "   'Size': 108634,\n",
       "   'StorageClass': 'STANDARD'},\n",
       "  {'Key': 'Person1.jpeg',\n",
       "   'LastModified': datetime.datetime(2023, 11, 21, 2, 55, 37, tzinfo=tzutc()),\n",
       "   'ETag': '\"80d6d5ad2f4d221967feb8a1a4748a06\"',\n",
       "   'Size': 586506,\n",
       "   'StorageClass': 'STANDARD'},\n",
       "  {'Key': 'Person2.jpeg',\n",
       "   'LastModified': datetime.datetime(2023, 11, 21, 2, 55, 38, tzinfo=tzutc()),\n",
       "   'ETag': '\"73806eb23151aab93465dfe5aad77efd\"',\n",
       "   'Size': 536807,\n",
       "   'StorageClass': 'STANDARD'},\n",
       "  {'Key': 'cat1581.jpg',\n",
       "   'LastModified': datetime.datetime(2023, 11, 21, 2, 55, 35, tzinfo=tzutc()),\n",
       "   'ETag': '\"b997e1bae0b26eac93e9cdbbab00547e\"',\n",
       "   'Size': 8987,\n",
       "   'StorageClass': 'STANDARD'},\n",
       "  {'Key': 'cat2869.jpg',\n",
       "   'LastModified': datetime.datetime(2023, 11, 21, 2, 55, 35, tzinfo=tzutc()),\n",
       "   'ETag': '\"1e46d7cc978183da7e26be4255c91243\"',\n",
       "   'Size': 9023,\n",
       "   'StorageClass': 'STANDARD'},\n",
       "  {'Key': 'living room.jpeg',\n",
       "   'LastModified': datetime.datetime(2023, 11, 20, 21, 55, 1, tzinfo=tzutc()),\n",
       "   'ETag': '\"46ae2282366cb3c196e31de46f7a0e54\"',\n",
       "   'Size': 135324,\n",
       "   'StorageClass': 'STANDARD'}],\n",
       " 'Name': 'jessicapurcell-3600-project',\n",
       " 'Prefix': '',\n",
       " 'MaxKeys': 1000,\n",
       " 'EncodingType': 'url',\n",
       " 'KeyCount': 6}"
      ]
     },
     "execution_count": 114,
     "metadata": {},
     "output_type": "execute_result"
    }
   ],
   "source": [
    "list_objects_response"
   ]
  },
  {
   "cell_type": "code",
   "execution_count": 115,
   "metadata": {},
   "outputs": [],
   "source": [
    "get_contents = list_objects_response.get(\"Contents\")"
   ]
  },
  {
   "cell_type": "code",
   "execution_count": 116,
   "metadata": {},
   "outputs": [
    {
     "data": {
      "text/plain": [
       "[{'Key': '706-Woodland-Ct_18.jpg',\n",
       "  'LastModified': datetime.datetime(2023, 11, 20, 21, 55, 1, tzinfo=tzutc()),\n",
       "  'ETag': '\"d24c53923be35ed441ec2a6951a3ffba\"',\n",
       "  'Size': 108634,\n",
       "  'StorageClass': 'STANDARD'},\n",
       " {'Key': 'Person1.jpeg',\n",
       "  'LastModified': datetime.datetime(2023, 11, 21, 2, 55, 37, tzinfo=tzutc()),\n",
       "  'ETag': '\"80d6d5ad2f4d221967feb8a1a4748a06\"',\n",
       "  'Size': 586506,\n",
       "  'StorageClass': 'STANDARD'},\n",
       " {'Key': 'Person2.jpeg',\n",
       "  'LastModified': datetime.datetime(2023, 11, 21, 2, 55, 38, tzinfo=tzutc()),\n",
       "  'ETag': '\"73806eb23151aab93465dfe5aad77efd\"',\n",
       "  'Size': 536807,\n",
       "  'StorageClass': 'STANDARD'},\n",
       " {'Key': 'cat1581.jpg',\n",
       "  'LastModified': datetime.datetime(2023, 11, 21, 2, 55, 35, tzinfo=tzutc()),\n",
       "  'ETag': '\"b997e1bae0b26eac93e9cdbbab00547e\"',\n",
       "  'Size': 8987,\n",
       "  'StorageClass': 'STANDARD'},\n",
       " {'Key': 'cat2869.jpg',\n",
       "  'LastModified': datetime.datetime(2023, 11, 21, 2, 55, 35, tzinfo=tzutc()),\n",
       "  'ETag': '\"1e46d7cc978183da7e26be4255c91243\"',\n",
       "  'Size': 9023,\n",
       "  'StorageClass': 'STANDARD'},\n",
       " {'Key': 'living room.jpeg',\n",
       "  'LastModified': datetime.datetime(2023, 11, 20, 21, 55, 1, tzinfo=tzutc()),\n",
       "  'ETag': '\"46ae2282366cb3c196e31de46f7a0e54\"',\n",
       "  'Size': 135324,\n",
       "  'StorageClass': 'STANDARD'}]"
      ]
     },
     "execution_count": 116,
     "metadata": {},
     "output_type": "execute_result"
    }
   ],
   "source": [
    "get_contents"
   ]
  },
  {
   "cell_type": "code",
   "execution_count": 117,
   "metadata": {},
   "outputs": [],
   "source": [
    "get_all_s3_object_and_folder_names = []\n",
    "\n",
    "for item in get_contents:\n",
    "    s3_object_name = item.get(\"Key\")\n",
    "\n",
    "    get_all_s3_object_and_folder_names.append(s3_object_name)"
   ]
  },
  {
   "cell_type": "code",
   "execution_count": 118,
   "metadata": {},
   "outputs": [
    {
     "data": {
      "text/plain": [
       "['706-Woodland-Ct_18.jpg',\n",
       " 'Person1.jpeg',\n",
       " 'Person2.jpeg',\n",
       " 'cat1581.jpg',\n",
       " 'cat2869.jpg',\n",
       " 'living room.jpeg']"
      ]
     },
     "execution_count": 118,
     "metadata": {},
     "output_type": "execute_result"
    }
   ],
   "source": [
    "get_all_s3_object_and_folder_names"
   ]
  },
  {
   "cell_type": "code",
   "execution_count": 119,
   "metadata": {},
   "outputs": [],
   "source": [
    "directory_name = todays_date + \"/\""
   ]
  },
  {
   "cell_type": "code",
   "execution_count": 120,
   "metadata": {},
   "outputs": [
    {
     "data": {
      "text/plain": [
       "'20231120/'"
      ]
     },
     "execution_count": 120,
     "metadata": {},
     "output_type": "execute_result"
    }
   ],
   "source": [
    "directory_name"
   ]
  },
  {
   "cell_type": "code",
   "execution_count": null,
   "metadata": {},
   "outputs": [],
   "source": [
    "if directory_name not in get_all_s3_object_and_folder_names:\n",
    "    s3_client.put_object(Bucket=bucket_name, Key=(directory_name))"
   ]
  }
 ],
 "metadata": {
  "kernelspec": {
   "display_name": "base",
   "language": "python",
   "name": "python3"
  },
  "language_info": {
   "codemirror_mode": {
    "name": "ipython",
    "version": 3
   },
   "file_extension": ".py",
   "mimetype": "text/x-python",
   "name": "python",
   "nbconvert_exporter": "python",
   "pygments_lexer": "ipython3",
   "version": "3.9.7"
  }
 },
 "nbformat": 4,
 "nbformat_minor": 2
}
